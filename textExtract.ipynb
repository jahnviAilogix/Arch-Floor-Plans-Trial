{
 "cells": [
  {
   "cell_type": "code",
   "execution_count": 1,
   "id": "45c9e0c7",
   "metadata": {},
   "outputs": [],
   "source": [
    "import cv2\n",
    "import pytesseract"
   ]
  },
  {
   "cell_type": "code",
   "execution_count": 2,
   "id": "e48396b0",
   "metadata": {},
   "outputs": [
    {
     "name": "stdout",
     "output_type": "stream",
     "text": [
      "KITCHEN\n",
      "10'-0°X 10-10\"\n",
      "\n",
      "44.6\"\n",
      "\n",
      "BEDROOM\n",
      "12°-3°X10-6\"\n",
      "\n",
      "TOILET\n",
      "6-7°x4'-6\"\n",
      "\n",
      "Sit OUT\n",
      "10°-3°X13-0\" DRAWING.\n",
      "\n",
      "—— ROAD\n",
      "FIRST FLOOR PLAN\n",
      "\n",
      "\n"
     ]
    }
   ],
   "source": [
    "pytesseract.pytesseract.tesseract_cmd=r'C:\\Tesseract-OCR\\tesseract.exe'\n",
    "img = cv2.imread(r'C:\\\\Users\\\\Jahnvi\\\\Desktop\\\\floorplancrop\\\\FF5.png')\n",
    "cv2.imshow(\"Image\", img)\n",
    "text = pytesseract.image_to_string(img)\n",
    "print(text)\n",
    "cv2.waitKey(0)\n",
    "cv2.destroyAllWindows()\n"
   ]
  },
  {
   "cell_type": "code",
   "execution_count": null,
   "id": "a7bc28ff",
   "metadata": {},
   "outputs": [],
   "source": []
  }
 ],
 "metadata": {
  "kernelspec": {
   "display_name": "floorplan",
   "language": "python",
   "name": "floorplan"
  },
  "language_info": {
   "codemirror_mode": {
    "name": "ipython",
    "version": 3
   },
   "file_extension": ".py",
   "mimetype": "text/x-python",
   "name": "python",
   "nbconvert_exporter": "python",
   "pygments_lexer": "ipython3",
   "version": "3.10.10"
  }
 },
 "nbformat": 4,
 "nbformat_minor": 5
}
